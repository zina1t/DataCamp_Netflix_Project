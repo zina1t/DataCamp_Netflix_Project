{
  "nbformat": 4,
  "nbformat_minor": 0,
  "metadata": {
    "colab": {
      "provenance": [],
      "authorship_tag": "ABX9TyPhUup2fDHIaCebrJIo4gQ4",
      "include_colab_link": true
    },
    "kernelspec": {
      "name": "python3",
      "display_name": "Python 3"
    },
    "language_info": {
      "name": "python"
    }
  },
  "cells": [
    {
      "cell_type": "markdown",
      "metadata": {
        "id": "view-in-github",
        "colab_type": "text"
      },
      "source": [
        "<a href=\"https://colab.research.google.com/github/zina1t/DataCamp_Netflix_Project/blob/main/DataCamp_project.ipynb\" target=\"_parent\"><img src=\"https://colab.research.google.com/assets/colab-badge.svg\" alt=\"Open In Colab\"/></a>"
      ]
    },
    {
      "cell_type": "code",
      "execution_count": 1,
      "metadata": {
        "id": "PvKA0WIUUkXR"
      },
      "outputs": [],
      "source": [
        "# Importing pandas and matplotlib\n",
        "import pandas as pd\n",
        "import matplotlib.pyplot as plt"
      ]
    },
    {
      "cell_type": "code",
      "source": [
        "# Load the CSV file and store as netflix_df\n",
        "netflix_df = pd.read_csv('netflix_data.csv')\n",
        "netflix_df.head()"
      ],
      "metadata": {
        "id": "MSroDKk2UpFI"
      },
      "execution_count": null,
      "outputs": []
    },
    {
      "cell_type": "code",
      "source": [
        "# Filter the data to remove TV shows and store as netflix_subset\n",
        "netflix_subset = netflix_df.copy()\n",
        "netflix_subset = netflix_subset.drop(netflix_subset[netflix_subset['type'] == 'TV Show'].index)\n",
        "netflix_subset.head()"
      ],
      "metadata": {
        "id": "LZ1tIm8eVNu8"
      },
      "execution_count": null,
      "outputs": []
    },
    {
      "cell_type": "code",
      "source": [
        "# Investigate the Netflix movie data, keeping only the columns \"title\", \"country\", \"genre\", \"release_year\", \"duration\", and saving this into a new DataFrame called netflix_movies\n",
        "netflix_movies = netflix_subset.loc[:, ['title', 'country', 'genre', 'release_year', 'duration']]\n",
        "netflix_movies"
      ],
      "metadata": {
        "id": "cVE86DguW7mk"
      },
      "execution_count": null,
      "outputs": []
    },
    {
      "cell_type": "code",
      "source": [
        "# Filter netflix_movies to find the movies that are shorter than 60 minutes, saving the resulting DataFrame as short_movies; inspect the result to find possible contributing factors.\n",
        "short_movies = netflix_movies.drop(netflix_movies[netflix_movies['duration'] >= 60].index)\n",
        "short_movies"
      ],
      "metadata": {
        "id": "jixSFTImXyOF"
      },
      "execution_count": null,
      "outputs": []
    },
    {
      "cell_type": "code",
      "source": [
        "# Using a for loop and if/elif statements, iterate through the rows of netflix_movies and assign colors of your choice to four genre groups (\"Children\", \"Documentaries\", \"Stand-Up\", and \"Other\" for everything else).\n",
        "# Save the results in a colors list. Initialize a figure object called fig and create a scatter plot for movie duration by release year using the colors list to color the points\n",
        "# and using the labels \"Release year\" for the x-axis, \"Duration (min)\" for the y-axis, and the title \"Movie Duration by Year of Release\"."
      ],
      "metadata": {
        "id": "uaE_Rd6oYUC5"
      },
      "execution_count": null,
      "outputs": []
    },
    {
      "cell_type": "code",
      "source": [
        "colors = []\n",
        "\n",
        "for i, row in netflix_movies.iterrows():\n",
        "  if row['genre'] == \"Children\":\n",
        "    colors.append('red')\n",
        "  elif row['genre'] == \"Documentaries\":\n",
        "    colors.append('green')\n",
        "  elif row['genre'] == \"Stand-Up\":\n",
        "    colors.append('blue')\n",
        "  else:\n",
        "    colors.append('black')\n",
        "\n",
        "fig = plt.figure(figsize=(10,7))\n",
        "fig = plt.scatter(netflix_movies['release_year'], netflix_movies['duration'], color=colors)\n",
        "plt.xlabel('Release year')\n",
        "plt.ylabel('Duration (min)')\n",
        "plt.title('Movie Duration by Year of Release')\n",
        "plt.show()"
      ],
      "metadata": {
        "id": "sAK8CI1SYjSs"
      },
      "execution_count": null,
      "outputs": []
    },
    {
      "cell_type": "code",
      "source": [
        "# After inspecting the plot, answer the question \"Are we certain that movies are getting shorter?\" by assigning either \"yes\", \"no\", or \"maybe\" to the variable answer.\n",
        "answer = 'maybe'"
      ],
      "metadata": {
        "id": "1fDdTsXQbSs-"
      },
      "execution_count": 32,
      "outputs": []
    }
  ]
}